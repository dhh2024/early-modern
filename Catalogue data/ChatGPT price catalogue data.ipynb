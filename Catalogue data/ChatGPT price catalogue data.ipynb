{
 "cells": [
  {
   "cell_type": "code",
   "execution_count": 1,
   "id": "5d3e535b",
   "metadata": {},
   "outputs": [],
   "source": [
    "import openai"
   ]
  },
  {
   "cell_type": "code",
   "execution_count": 2,
   "id": "860ff3b8",
   "metadata": {},
   "outputs": [],
   "source": [
    "#import API # own api key\n",
    "import API"
   ]
  },
  {
   "cell_type": "code",
   "execution_count": 3,
   "id": "d03597cf",
   "metadata": {},
   "outputs": [],
   "source": [
    "import os\n",
    "from openai import OpenAI\n",
    "\n",
    "client = OpenAI(\n",
    "    # This is the default and can be omitted\n",
    "    api_key=API.api_key,\n",
    ")\n",
    "\n"
   ]
  },
  {
   "cell_type": "code",
   "execution_count": 4,
   "id": "c93be747",
   "metadata": {},
   "outputs": [],
   "source": [
    "chat_completion = client.chat.completions.create(\n",
    "    messages=[\n",
    "        {\n",
    "            \"role\": \"user\",\n",
    "            \"content\": \"Say this is a test\",\n",
    "        }\n",
    "    ],\n",
    "    model=\"gpt-3.5-turbo\",\n",
    ")"
   ]
  },
  {
   "cell_type": "code",
   "execution_count": 5,
   "id": "480160a9",
   "metadata": {},
   "outputs": [
    {
     "data": {
      "text/plain": [
       "ChatCompletion(id='chatcmpl-9PR3QwJuqINtXE64Jas0IqGAvCoxq', choices=[Choice(finish_reason='stop', index=0, logprobs=None, message=ChatCompletionMessage(content='This is a test.', role='assistant', function_call=None, tool_calls=None))], created=1715849224, model='gpt-3.5-turbo-0125', object='chat.completion', system_fingerprint=None, usage=CompletionUsage(completion_tokens=5, prompt_tokens=12, total_tokens=17))"
      ]
     },
     "execution_count": 5,
     "metadata": {},
     "output_type": "execute_result"
    }
   ],
   "source": [
    "chat_completion"
   ]
  },
  {
   "cell_type": "code",
   "execution_count": 6,
   "id": "61e4f97b-f802-4c07-818d-f3e64048440c",
   "metadata": {},
   "outputs": [],
   "source": [
    "import json\n",
    "\n",
    "# Define the path to the JSON file\n",
    "file_path = 'C:/Users/arive/DHH24/general_catalogue_extracted.json'\n",
    "\n",
    "# Open and read the JSON file\n",
    "with open(file_path, 'r') as file:\n",
    "    data = json.load(file)\n",
    "\n"
   ]
  },
  {
   "cell_type": "code",
   "execution_count": 7,
   "id": "d3b51d8b-6ac6-4998-bd80-96c371862693",
   "metadata": {},
   "outputs": [],
   "source": [
    "# an example\n",
    "\n",
    "text = \"\"\n",
    "page = data['pages'][10]\n",
    "for line in page['PageData'][0]['lines']:\n",
    "    text = text + line + \"\\n\""
   ]
  },
  {
   "cell_type": "code",
   "execution_count": 8,
   "id": "1925dc56-c6a6-44b6-899d-85a44c25e818",
   "metadata": {},
   "outputs": [
    {
     "data": {
      "text/plain": [
       "'Divinity and Eeclesiasical Histry\\nClogher\\'s Scripture Chronology vindicated, 4to - o12\\nCloset Devotions, 12mo\\nCobb\\'s Sermons, at Bampton\\'s Lecture, 8vo. sewed\\nCobden\\'s Sermons with his Poems, 4to\\nCockburn ( Robert) on the New Testamen t, Vol. I. 8vo\\n— (Patrick) on the Deluge, 8vo\\nCockman\\'s Theological Discourses, 2 Vols. 8vo *\\nCoetlogom\\'s Sermon s on the 51st Psalm,2 Vols. small Svo . g\\nCoheleth, or the royal Preacher, on Ecclesiastes, 4to, boards o6 I\\nCole\\'s Discourses on Luxury, Infidelity, &c. 12mo\\nhle oeBsfrettons on the a7th and 15ih of Judges, & 80 58\\n\\n—e Letters in defence of Christianity, 12mo. sewedS\\n— the Tracts of a certain Fiee Enquirer (Annet) 8vo o\\n\\nCollet\\'s Devotions, 12mo\\n— on the Eyistles, 8vo\\nCollier\\'s Sermons, 8vo\\n— Sacred Interpreter, 2 Vols. 8vo. 9 o 0\\n— Essays, 3 Vols. 8vo\\nColtman\\'s Every Man\\'s Monitor, 12mo\\nComber\\'s Companion to the Altar, 8vo\\nCo t on Plalm pxvIII. 8vo. beards\\nCompanion to the Feasts and Fasts, by a Layman, sooe\\n— for the Christian in his Field, 12mo\\nConcordance to the Bible, &vo\\nConey\\'s Sermons, 3 Vols. 8vo\\nConfession of Faith, 8vo\\nConfessional, or Enquity into Confessions, by Blackburne, 8vo\\nChnormie of ious Caemonien, \\'rt\\nConversion. of a Dei st, 12mo\\nConybeare\\'s Sermons, 2 Vols. Siosy9y129\\nDefence of Christianity against Tindal, 8vo\\nCofins. Deotions, 12mmo a vo \"\\nCooke\\'s Preacher\\'s Affistant, 2 Vols. vo-\\noe Sermons, 2 Vols sbo919\\n—— 39 Sermogs, 2 Vols. o\\n— on the Patrlarchal Religion, 8vo\\nConpers Wilis) Distourtes on enera is atjects : ;\\n— Samuel) Explanation of difficult Texts, 1amoe\\nCowper\\'s (Spencer) eight Discourses, s5oeoeoeoe\\nCowraver\\'s Defe nee of Ordin ation 3 8vo\\nVindication of Ditto I o 10\\nCoyte\\'s Sermons, 2 Vols. 12mo\\n\\nCradock\\'s Buchanan Psalms, 12mo\\nte aigs Estay on the Life of Je a Chris * 12mo I ew ed\\no Enculry into the Powers of Ecclesiasties, 8vo. boards\\n— biscourses, 3 Vols. 12mo. sewed\\nCrantz\\'s History of the United Brethren, 8yo\\nCraven\\'s Sermons on a Future State, 8vo. sewed\\nCrawforg\\'s Disfertation on the Phaedon of Plato, 8vo\\nCreed of the N azareens, 8vo. sewed\\nClisp\\'s Sermons, Christ exaites, 2 Vols. \\'vrvoe\\nCriterion, or Miracles examined, 8vo\\nChisiin\\'on WMotern Notions of Sacrifices, against Taylor, 8t\\nCinoleshanie\\'s Fiistory of the Church of Scotland, 2 Vols. 8vo 12\\nCray\\'s History of the Baptists, 4 Vols. 8vjoe\\nCroxall\\'s Scripture Politics, 8vo\\nCruden\\'s Concordance, 4to\\nCodworth\\'s Intellectual Sytem, 2 Vols. 4to\\n— o isoraiy, si B\\n'"
      ]
     },
     "execution_count": 8,
     "metadata": {},
     "output_type": "execute_result"
    }
   ],
   "source": [
    "text"
   ]
  },
  {
   "cell_type": "code",
   "execution_count": 10,
   "id": "cf5a1791-1be4-4347-9d7d-df714d5c68ac",
   "metadata": {},
   "outputs": [
    {
     "name": "stdout",
     "output_type": "stream",
     "text": [
      "| Author          | Title                                                    | Format | Volumes | Price | Volume | Page |\n",
      "|-----------------|----------------------------------------------------------|--------|---------|-------|--------|------|\n",
      "| Clogher         | Scripture Chronology vindicated                          | 4to    | 1       | 0 12  |       |      |\n",
      "|                 | Closet Devotions                                        | 12mo   | 1       |       |       |      |\n",
      "| Cobb            | Sermons at Bampton's Lecture                            | 8vo    | 1       | sewed |       |      |\n",
      "| Cobden          | Sermons with his Poems                                  | 4to    | 1       |       |       |      |\n",
      "| Cockburn        | on the New Testament, Vol. I                            | 8vo    | 1       |       |       |      |\n",
      "|                 | on the Deluge                                          | 8vo    | 1       |       |       |      |\n",
      "| Cockman         | Theological Discourses                                  | 8vo    | 2       |       |       |      |\n",
      "| Coetlogom       | Sermons on the 51st Psalm                                | small 8vo | 2     |       |       |      |\n",
      "|                 | Coheleth, or the Royal Preacher                         | 4to    | 1       | boards| 0 6   | I    |\n",
      "| Cole            | Discourses on Luxury, Infidelity, &c.                   | 12mo   | 1       |       |       |      |\n",
      "|                 | Reflections on the 17th and 15th of Judges &c          | 8vo    | 1       | 0 5 8 |       |      |\n",
      "|                 | Letters in Defence of Christianity                       | 12mo   | 1       | sewed |       |      |\n",
      "|                 | the Tracts of a certain Free Enquirer (Annet)           | 8vo    | 1       | 0     |       |      |\n",
      "| Collet          | Devotions                                              | 12mo   | 1       |       |       |      |\n",
      "|                 | on the Epistles                                        | 8vo    | 1       |       |       |      |\n",
      "| Collier         | Sermons                                                | 8vo    | 1       |       |       |      |\n",
      "|                 | Sacred Interpreter                                      | 8vo    | 2       | 9 0   |       |      |\n",
      "|                 | Essays                                                 | 8vo    | 3       |       |       |      |\n",
      "| Coltman         | Every Man's Monitor                                    | 12mo   | 1       |       |       |      |\n",
      "| Comber          | Companion to the Altar                                  | 8vo    | 1       |       |       |      |\n",
      "|                 | on Psalm cxviii                                        | 8vo    | 1       | boards|       |      |\n",
      "|                 | Companion to the Feasts and Fasts, by a Layman          |       | 1       | sooe  |       |      |\n",
      "|                 | for the Christian in his Field                          | 12mo   | 1       |       |       |      |\n",
      "|                 | Concordance to the Bible                                | 8vo    | 1       |       |       |      |\n",
      "| Coney           | Sermons                                                | 8vo    | 3       |       |       |      |\n",
      "|                 | Confession of Faith                                    | 8vo    | 1       |       |       |      |\n",
      "|                 | Confessional, or Enquiry into Confessions, by Blackburne| 8vo  | 1       |       |       |      |\n",
      "|                 | Conversion of a Deist                                  | 12mo   | 1       |       |       |      |\n",
      "| Conybeare       | Sermons                                                | 8vo    | 2       | 9 0   |       |      |\n",
      "|                 | Defence of Christianity against Tindal                  | 8vo    | 1       |       |       |      |\n",
      "|                 | Devotions                                              | 12mo   | 1       |       |       |      |\n",
      "| Cooke           | Preacher's Assistant                                    | 8vo    | 2       |       |       |      |\n",
      "|                 | Sermons                                                | 8vo    | 2       | 9     |       |      |\n",
      "|                 | 39 Sermons                                             | 8vo    | 2       | 0     |       |      |\n",
      "|                 | on the Patriarchal Religion                             | 8vo    | 1       |       |       |      |\n",
      "| Cowper          | Distourses on General Subjects                          |       |         |       |       |      |\n",
      "| Cowper          | Explanation of Difficult Texts                          | 1amoe  | 1       |       |       |      |\n",
      "| Cowper          | eight Discourses                                       | s5oeoeoeoe | 1    |       |       |      |\n",
      "| Cowper          | Defence of Ordination                                  | 3 8vo  | 1    |       |       |      |\n",
      "|                 | Vindication of Ditto                                   | 1 10   |       |       |       |      |\n",
      "| Coyte           | Sermons                                                | 12mo   | 2       |       |       |      |\n",
      "| Cradock         | Buchanan Psalms                                        | 12mo   | 1       |       |       |      |\n",
      "|                 | Essay on the Life of Jesus Christ                      | 12mo   | 1       | sewed |       |      |\n",
      "|                 | Inquiry into the Powers of Ecclesiastics                | 8vo    | 1       | boards|       |      |\n",
      "|                 | Discourses                                             | 12mo   | 3       | sewed |       |      |\n",
      "| Crantz          | History of the United Brethren                          | 8vo    | 1       |       |       |      |\n",
      "| Craven          | Sermons on a Future State                               | 8vo    | 1       | sewed |       |      |\n",
      "| Crawforg        | Dissertation on the Phaedon of Plato                    | 8vo    | 1       |       |       |      |\n",
      "|                 | Creed of the Nazareens                                 | 8vo    | 1       | sewed |       |      |\n",
      "| Clisp           | Sermons, Christ exalted                                | 8vo    | 2       |       |       |      |\n",
      "|                 | Criterion, or Miracles examined                         | 8vo    | 1       |       |       |      |\n",
      "|                 | Christion on Modern Notions of Sacrifices, against Taylor| 8t | 1    |       |       |      |\n",
      "|                 | History of the Church of Scotland                      | 8vo    | 2       | 12    |       |      |\n",
      "| Cray            | History of the Baptists                                 | 8vo    | 4       |       |       |      |\n",
      "| Cruden          | Concordance                                           | 4to    | 1       |       |       |      |\n",
      "| Codworth        | Intellectual System                                    | 4to    | 2       |       |       |      |\n"
     ]
    }
   ],
   "source": [
    "prompt = \"\"\"The attached text is a page extract from OCR'd 18th-century sales catalogue of books. \n",
    "Its structure is to list the name of the author in capital letters, and then the title of each book, \n",
    "its format (e.g. 2fo, 4to, or 8mo), the number of volumes, its price, the volume in which it was published in roman numerals and a page number. \n",
    "Can you extract the information regarding each book in the page as a table, with each book in one row and columns containing information \n",
    "regarding the book (e.g. title in one column, price in another), and listing the books in the same order in which they appeart in the catalogue \\n\\n\n",
    "\"\"\"\n",
    "chat_completion = client.chat.completions.create(\n",
    "        messages=[\n",
    "            {\n",
    "                \"role\": \"user\",\n",
    "                \"content\": prompt + text,\n",
    "            }\n",
    "        ],\n",
    "        model=\"gpt-3.5-turbo\",\n",
    "    )\n",
    "print(chat_completion.choices[0].message.content)\n",
    "#            \"content\": f\"Please, try to convert the attached text into table format. Plase, note that all lines start with 'Line:' that is not part of the text:\\n\\n{text}\",\n"
   ]
  },
  {
   "cell_type": "code",
   "execution_count": null,
   "id": "f3aad8a9-e6df-45e6-9faf-47ab5472e9c9",
   "metadata": {},
   "outputs": [],
   "source": []
  }
 ],
 "metadata": {
  "kernelspec": {
   "display_name": "Python 3 (ipykernel)",
   "language": "python",
   "name": "python3"
  },
  "language_info": {
   "codemirror_mode": {
    "name": "ipython",
    "version": 3
   },
   "file_extension": ".py",
   "mimetype": "text/x-python",
   "name": "python",
   "nbconvert_exporter": "python",
   "pygments_lexer": "ipython3",
   "version": "3.11.7"
  }
 },
 "nbformat": 4,
 "nbformat_minor": 5
}
