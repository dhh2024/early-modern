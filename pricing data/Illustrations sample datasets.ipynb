{
 "cells": [
  {
   "cell_type": "code",
   "execution_count": null,
   "id": "93bdb0ee-db7a-43da-9353-920536d534da",
   "metadata": {},
   "outputs": [],
   "source": [
    "import os\n",
    "import random\n",
    "import cv2\n",
    "import matplotlib.pyplot as plt"
   ]
  },
  {
   "cell_type": "code",
   "execution_count": null,
   "id": "32a20f8f-2812-4b4c-9865-09c8e43d04c7",
   "metadata": {},
   "outputs": [],
   "source": [
    "# Define the path to the main folder\n",
    "main_folder = '/scratch/project_2005488/DHH24/Illustrations'\n",
    "\n",
    "# Initialize an empty list to store the paths of all image files\n",
    "image_files = []\n",
    "\n",
    "# Walk through the directory tree\n",
    "for root, dirs, files in os.walk(main_folder):\n",
    "    for file in files:\n",
    "        if file.endswith('.jpg'):\n",
    "            # Construct the full file path and add it to the list\n",
    "            file_path = os.path.join(root, file)\n",
    "            image_files.append(file_path)\n",
    "\n",
    "print(f\"Total number of image files found: {len(image_files)}\")\n"
   ]
  },
  {
   "cell_type": "code",
   "execution_count": null,
   "id": "329cbaaa-79d0-4543-a9a7-4ffd79e38f79",
   "metadata": {},
   "outputs": [],
   "source": [
    "image_files[200]"
   ]
  },
  {
   "cell_type": "code",
   "execution_count": null,
   "id": "1b7af147-d45b-47e0-bd94-aed3932df9f4",
   "metadata": {},
   "outputs": [],
   "source": [
    "list_11 = []\n",
    "list_12 = []\n",
    "list_13 = []\n",
    "\n",
    "# Iterate through the large list and categorize each string\n",
    "for item in image_files:\n",
    "    if \"_11_\" in item:\n",
    "        list_11.append(item)\n",
    "    elif \"_12_\" in item:\n",
    "        list_12.append(item)\n",
    "    elif \"_13_\" in item:\n",
    "        list_13.append(item)\n",
    "print(f\"Number of items in list_11: {len(list_11)}\")\n",
    "print(f\"Number of items in list_12: {len(list_12)}\")\n",
    "print(f\"Number of items in list_13: {len(list_13)}\")"
   ]
  },
  {
   "cell_type": "code",
   "execution_count": null,
   "id": "09dc7821-7053-46e4-87ed-d5c747e5f8e7",
   "metadata": {},
   "outputs": [],
   "source": [
    "\"\"\"\n",
    " 11: 'ILLU-FRONTISPIECE',\n",
    " 12: 'ILLU-WOODCUT OR ENGRAVING',\n",
    " 13: 'ILLU-OTHER',\n",
    "\"\"\""
   ]
  },
  {
   "cell_type": "code",
   "execution_count": null,
   "id": "1874a8bf-a635-46f4-aab3-44b53661d969",
   "metadata": {},
   "outputs": [],
   "source": [
    "sample_size = 50\n",
    "\n",
    "sampled_list = random.sample(list_11, sample_size)\n",
    "\n",
    "for sample in sampled_list:\n",
    "    im = cv2.imread(sample)\n",
    "    plt.imshow(im)\n",
    "    plt.title(\"Frontpiece\")\n",
    "    plt.show()\n",
    "    \n",
    "sampled_list = random.sample(list_12, sample_size)\n",
    "\n",
    "for sample in sampled_list:\n",
    "    im = cv2.imread(sample)\n",
    "    plt.imshow(im)\n",
    "    plt.title(\"Woodcut or Engraving\")\n",
    "    plt.show()\n",
    "    \n",
    "sampled_list = random.sample(list_13, sample_size)\n",
    "\n",
    "for sample in sampled_list:\n",
    "    im = cv2.imread(sample)\n",
    "    plt.imshow(im)\n",
    "    plt.title(\"Other\")\n",
    "    plt.show()"
   ]
  },
  {
   "cell_type": "code",
   "execution_count": null,
   "id": "6bbb74d0-44f3-4696-8715-9b79c6b6d4df",
   "metadata": {},
   "outputs": [],
   "source": []
  }
 ],
 "metadata": {
  "kernelspec": {
   "display_name": "Python 3 (ipykernel)",
   "language": "python",
   "name": "python3"
  },
  "language_info": {
   "codemirror_mode": {
    "name": "ipython",
    "version": 3
   },
   "file_extension": ".py",
   "mimetype": "text/x-python",
   "name": "python",
   "nbconvert_exporter": "python",
   "pygments_lexer": "ipython3",
   "version": "3.9.18"
  }
 },
 "nbformat": 4,
 "nbformat_minor": 5
}
